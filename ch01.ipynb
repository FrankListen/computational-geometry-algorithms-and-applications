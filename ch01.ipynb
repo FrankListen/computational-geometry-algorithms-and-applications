{
 "cells": [
  {
   "cell_type": "markdown",
   "id": "95fbbf6e-6288-4863-9233-4773e4a176b2",
   "metadata": {},
   "source": [
    "# 第一章 导言\n",
    "## 1.1 凸包的例子\n",
    "- **定义**：对于平面内任意两点$p.q\\in S$，线段$pq$都完全属于$S$，则平面内子集$S$为凸集。包含$S$的最小凸集为集合$S$的凸包$CH(S)$。\n",
    "- **计算凸包**\n",
    "  - **问题**：输入：平面内一组点；输出： **<font color='red'>顺时针</font>**排序的凸包的顶点\n",
    "  - **方法**：\n",
    "    - **蛮力法（brute-force）**\n",
    "      - 中心思想：内部点均在凸包边界线的右边\n",
    "      - 算法复杂度：$O(n^2)$\n",
    "      - 存在问题：退化（有部分点刚好在直线上）、浮点运算舍入误差\n",
    "    - **递增式算法（incremental）**\n",
    "      - 中心思想：先对所有点按照x轴坐标从左往右排序（相同x则按照y排序），然后分上下凸包判断是否出现右拐点（左拐和共线则去除中间点）\n",
    "      - 算法复杂度：$O(n\\log n)$\n",
    "      - 存在问题：浮点运算舍入误差\n",
    "- **定理1.1**：包含n个点的平面集，其凸包均可在$O(n\\log n)$时间内构造出来"
   ]
  },
  {
   "cell_type": "markdown",
   "id": "eba29263-64d5-4c46-8add-2b5e649a59b3",
   "metadata": {},
   "source": [
    "## 1.2 退化及鲁棒性（算法建立的步骤）\n",
    "- **梳理一般化算法流程**\n",
    "- **考虑特殊情况，重新思考算法**\n",
    "- **考虑算法鲁棒性问题**"
   ]
  },
  {
   "cell_type": "markdown",
   "id": "83ed9676-5bd8-48a0-8d3d-2f96acc03042",
   "metadata": {},
   "source": [
    "## 1.3 应用领域\n",
    "- **计算机图形学**\n",
    "  - 二维图形学问题：几何元素的交、选定几何元素、筛选几何元素\n",
    "  - 三维图形学问题：取消隐藏面\n",
    "  - 实际：阴影计算、碰撞检测等\n",
    "- **机器人**\n",
    "  - 运动路线规划\n",
    "  - 机械臂操作\n",
    "- **GIS**\n",
    "  - 地图信息存储\n",
    "  - 不同类型数据叠合计算\n",
    "- **CAD/CAM**\n",
    "  - CAD：求交、求并、边界分解、可视化\n",
    "  - CAM：实际制造\n",
    "- **其他**\n",
    "  - 分子建模、图像识别\n",
    "    "
   ]
  }
 ],
 "metadata": {
  "kernelspec": {
   "display_name": "Python 3",
   "language": "python",
   "name": "python3"
  },
  "language_info": {
   "codemirror_mode": {
    "name": "ipython",
    "version": 3
   },
   "file_extension": ".py",
   "mimetype": "text/x-python",
   "name": "python",
   "nbconvert_exporter": "python",
   "pygments_lexer": "ipython3",
   "version": "3.9.12"
  }
 },
 "nbformat": 4,
 "nbformat_minor": 5
}
